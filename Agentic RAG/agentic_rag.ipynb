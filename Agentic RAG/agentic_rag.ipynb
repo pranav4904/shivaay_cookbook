{
  "nbformat": 4,
  "nbformat_minor": 0,
  "metadata": {
    "colab": {
      "provenance": []
    },
    "kernelspec": {
      "name": "python3",
      "display_name": "Python 3"
    },
    "language_info": {
      "name": "python"
    }
  },
  "cells": [
    {
      "cell_type": "markdown",
      "source": [
        "#  Agentic RAG with Shivaay\n",
        "\n",
        "This notebook demonstrates how to simulate an agent-based Retrieval-Augmented Generation (RAG) workflow using the Shivaay API. It walks through the process of:\n",
        "- Breaking down a complex query into subtasks,\n",
        "- Generating search queries for each,\n",
        "- Simulating document retrieval,\n",
        "- And finally using Shivaay to synthesize an answer from all gathered context."
      ],
      "metadata": {
        "id": "EDAdEwh7RDbB"
      }
    },
    {
      "cell_type": "markdown",
      "source": [
        "###  Step 1: Setup – Import Dependencies\n",
        "- Imports required libraries:\n",
        "  - `requests` for API calls to Shivaay.\n",
        "  - `time` for potential throttling between API requests."
      ],
      "metadata": {
        "id": "GbK5f4qWRIyM"
      }
    },
    {
      "cell_type": "code",
      "execution_count": 8,
      "metadata": {
        "id": "FxpQyi3UQD-c"
      },
      "outputs": [],
      "source": [
        "import requests\n",
        "import time"
      ]
    },
    {
      "cell_type": "markdown",
      "source": [
        "###  Step 2: Configure Shivaay API\n",
        "- Sets your Shivaay API key and endpoint.\n",
        "- Defines a helper function `call_shivaay()` to make POST requests.\n",
        "- Accepts parameters like `system_prompt`, `user_input`, `temperature`, and `max_tokens`.\n"
      ],
      "metadata": {
        "id": "SSO-SN8YSRFm"
      }
    },
    {
      "cell_type": "code",
      "source": [
        "API_KEY = \"YOUR-API-KEY\"\n",
        "API_URL = \"https://api.futurixai.com/api/shivaay/v1/chat/completions\"\n",
        "\n",
        "def call_shivaay(messages, temperature=0.3, max_tokens=200):\n",
        "    headers = {\n",
        "        \"Content-Type\": \"application/json\",\n",
        "        \"Authorization\": f\"Bearer {API_KEY}\"\n",
        "    }\n",
        "    payload = {\n",
        "        \"model\": \"shivaay\",\n",
        "        \"messages\": messages,\n",
        "        \"temperature\": temperature,\n",
        "        \"max_tokens\": max_tokens\n",
        "    }\n",
        "    response = requests.post(API_URL, headers=headers, json=payload)\n",
        "    response.raise_for_status()\n",
        "    return response.json()[\"choices\"][0][\"message\"][\"content\"]\n"
      ],
      "metadata": {
        "id": "fB7-Q5J5RPpE"
      },
      "execution_count": 9,
      "outputs": []
    },
    {
      "cell_type": "markdown",
      "source": [
        "###  Step 3: Planning Agent\n",
        "- Shivaay is prompted to break down a complex user query into a list of smaller subtasks.\n",
        "- Mimics how an autonomous agent would reason about a problem before retrieving information.\n"
      ],
      "metadata": {
        "id": "mqtFAjgtSb0h"
      }
    },
    {
      "cell_type": "code",
      "source": [
        "def planning_agent(user_question):\n",
        "    messages = [\n",
        "        {\"role\": \"system\", \"content\": \"You're a helpful planner AI. Break down the user question into logical steps or subtasks to find an accurate answer.\"},\n",
        "        {\"role\": \"user\", \"content\": user_question}\n",
        "    ]\n",
        "    return call_shivaay(messages)\n"
      ],
      "metadata": {
        "id": "DdDnkwlGRX2G"
      },
      "execution_count": 10,
      "outputs": []
    },
    {
      "cell_type": "markdown",
      "source": [
        "###  Step 4: Search Agent\n",
        "- For each subtask, Shivaay generates 2–3 effective search queries.\n",
        "- These simulate how a retrieval-focused agent might think and formulate search strings.\n",
        "- Queries are parsed and returned as a clean list."
      ],
      "metadata": {
        "id": "ESWml8H4SfQY"
      }
    },
    {
      "cell_type": "code",
      "source": [
        "def search_agent(subtask):\n",
        "    messages = [\n",
        "        {\"role\": \"system\", \"content\": \"Generate 2-3 highly relevant web search queries based on the subtask provided.\"},\n",
        "        {\"role\": \"user\", \"content\": subtask}\n",
        "    ]\n",
        "    raw = call_shivaay(messages)\n",
        "    return [q.strip(\"- \").strip() for q in raw.split(\"\\n\") if q.strip()]\n"
      ],
      "metadata": {
        "id": "jIw3rghnRbpq"
      },
      "execution_count": 11,
      "outputs": []
    },
    {
      "cell_type": "markdown",
      "source": [
        "###  Step 5: Retrieval Agent (Simulated)\n",
        "- Instead of using a real search engine or vector DB, this step mocks retrieved results using predefined text.\n",
        "- Each search query maps to a simulated paragraph of context.\n",
        "- All paragraphs are combined for final use."
      ],
      "metadata": {
        "id": "dUC5ro_zSjIl"
      }
    },
    {
      "cell_type": "code",
      "source": [
        "def retrieval_agent(fake_results):\n",
        "    return \"\\n\".join(fake_results)\n"
      ],
      "metadata": {
        "id": "e4cvAyNvReAJ"
      },
      "execution_count": 12,
      "outputs": []
    },
    {
      "cell_type": "markdown",
      "source": [
        "###  Step 6: Reasoning Agent\n",
        "- Combines all context and sends it back to Shivaay with the original user question.\n",
        "- Shivaay answers the question strictly using the retrieved context.\n",
        "- Demonstrates the reasoning capability of the agent pipeline.\n"
      ],
      "metadata": {
        "id": "d4deZxYYSpgu"
      }
    },
    {
      "cell_type": "code",
      "source": [
        "def reasoning_agent(question, context):\n",
        "    messages = [\n",
        "        {\"role\": \"system\", \"content\": f\"Use the following context to answer the user's question:\\n\\n{context}\"},\n",
        "        {\"role\": \"user\", \"content\": question}\n",
        "    ]\n",
        "    return call_shivaay(messages, temperature=0.2)\n"
      ],
      "metadata": {
        "id": "IerUMhXRRgHD"
      },
      "execution_count": 13,
      "outputs": []
    },
    {
      "cell_type": "markdown",
      "source": [
        "###  Step 7: Output Final Answer\n",
        "- Prints the complete answer generated by Shivaay.\n",
        "- Optionally previews part of the context used for transparency."
      ],
      "metadata": {
        "id": "fALZ7PZKStAg"
      }
    },
    {
      "cell_type": "code",
      "source": [
        "user_question = input(\"💬 Enter your complex question: \")\n",
        "\n",
        "print(\"\\n🧠 Planning agent thinking...\")\n",
        "plan = planning_agent(user_question)\n",
        "print(\"✅ Plan:\\n\", plan)\n",
        "\n",
        "subtasks = [line.strip(\"- \").strip() for line in plan.split(\"\\n\") if line.strip()]\n",
        "\n",
        "all_contexts = []\n",
        "\n",
        "for i, task in enumerate(subtasks):\n",
        "    print(f\"\\n🔍 Searching for subtask {i+1}: {task}\")\n",
        "    queries = search_agent(task)\n",
        "    print(\"Generated Queries:\", queries)\n",
        "\n",
        "    # Simulate retrieval (replace with actual web scraping if needed)\n",
        "    mock_results = [f\"Result for '{q}' - Lorem ipsum content about {q}\" for q in queries]\n",
        "    context = retrieval_agent(mock_results)\n",
        "    all_contexts.append(context)\n",
        "\n",
        "print(\"\\n🧠 Reasoning agent compiling final answer...\")\n",
        "final_context = \"\\n\\n\".join(all_contexts)\n",
        "answer = reasoning_agent(user_question, final_context)\n",
        "\n",
        "print(\"\\n📝 Final Answer:\\n\", answer)\n"
      ],
      "metadata": {
        "colab": {
          "base_uri": "https://localhost:8080/"
        },
        "id": "XNMaVF-SRiOa",
        "outputId": "1e245c3c-8108-4290-d8a8-6a3b9eb96470"
      },
      "execution_count": 14,
      "outputs": [
        {
          "output_type": "stream",
          "name": "stdout",
          "text": [
            "💬 Enter your complex question: How can renewable energy sources like solar and wind be integrated into national power grids, and what are the main challenges faced during this transition?\n",
            "\n",
            "🧠 Planning agent thinking...\n",
            "✅ Plan:\n",
            " Integrating renewable energy sources such as solar and wind into national power grids involves several steps and faces various challenges. Here's a breakdown of the process and the main challenges:\n",
            "\n",
            "### Steps for Integration\n",
            "\n",
            "1. **Assessment and Planning:**\n",
            "   - Conduct feasibility studies to determine the potential for renewable energy generation.\n",
            "   - Plan the integration of renewable sources based on geographical suitability, existing infrastructure, and future energy demands.\n",
            "\n",
            "2. **Infrastructure Development:**\n",
            "   - Upgrade or build new transmission lines to accommodate the fluctuating output from renewable sources.\n",
            "   - Install necessary equipment for grid stabilization, such as energy storage systems and smart grid technologies.\n",
            "\n",
            "3. **Policy and Regulatory Framework:**\n",
            "   - Develop policies that encourage investment in renewable energy projects.\n",
            "   - Implement regulations that ensure fair access to the grid for renewable energy producers.\n",
            "\n",
            "4. **Technology Integration:**\n",
            "   - Integrate advanced metering infrastructure (AMI) to monitor and manage energy flow efficiently.\n",
            "   - Use predictive analytics and machine learning to\n",
            "\n",
            "🔍 Searching for subtask 1: Integrating renewable energy sources such as solar and wind into national power grids involves several steps and faces various challenges. Here's a breakdown of the process and the main challenges:\n",
            "Generated Queries: ['1. Steps involved in integrating renewable energy sources into national power grids', '2. Challenges faced during the integration of solar and wind energy into existing power grids']\n",
            "\n",
            "🔍 Searching for subtask 2: ### Steps for Integration\n",
            "Generated Queries: [\"It seems like you're looking for information on how to integrate something, but the specific context is missing. Here are a couple of relevant web search queries that could help depending on what you're trying to integrate:\", '1. \"Steps to integrate [specific technology or service] with [another specific technology or service]\"', '2. \"Integration process for [specific software or platform]\"', 'Please provide more details so I can give you more accurate and helpful search queries.']\n",
            "\n",
            "🔍 Searching for subtask 3: 1. **Assessment and Planning:**\n",
            "Generated Queries: ['1. \"best practices for assessment and planning in project management\"', '2. \"tools and techniques for effective assessment and planning\"']\n",
            "\n",
            "🔍 Searching for subtask 4: Conduct feasibility studies to determine the potential for renewable energy generation.\n",
            "Generated Queries: ['1. \"Feasibility study methods for renewable energy projects\"', '2. \"Tools and software for conducting renewable energy generation feasibility studies\"']\n",
            "\n",
            "🔍 Searching for subtask 5: Plan the integration of renewable sources based on geographical suitability, existing infrastructure, and future energy demands.\n",
            "Generated Queries: ['1. \"Geographical suitability analysis for integrating renewable energy sources in India\"', '2. \"Assessment of existing energy infrastructure for renewable energy integration\"', '3. \"Future energy demand forecasting and renewable energy planning\"']\n",
            "\n",
            "🔍 Searching for subtask 6: 2. **Infrastructure Development:**\n",
            "Generated Queries: ['1. \"Best practices for infrastructure development in India\"', '2. \"Infrastructure development projects in India: current status and future plans\"']\n",
            "\n",
            "🔍 Searching for subtask 7: Upgrade or build new transmission lines to accommodate the fluctuating output from renewable sources.\n",
            "Generated Queries: ['1. \"Best practices for upgrading transmission lines to integrate renewable energy sources\"', '2. \"Technologies for building new transmission lines to handle variable renewable energy outputs\"']\n",
            "\n",
            "🔍 Searching for subtask 8: Install necessary equipment for grid stabilization, such as energy storage systems and smart grid technologies.\n",
            "Generated Queries: ['1. How to install energy storage systems for grid stabilization?', '2. Best practices for integrating smart grid technologies to enhance grid stability.']\n",
            "\n",
            "🔍 Searching for subtask 9: 3. **Policy and Regulatory Framework:**\n",
            "Generated Queries: ['1. \"Current policy and regulatory framework for AI in India\"', '2. \"Regulatory guidelines for AI implementation in businesses in India\"']\n",
            "\n",
            "🔍 Searching for subtask 10: Develop policies that encourage investment in renewable energy projects.\n",
            "Generated Queries: ['1. \"Best practices for government policies to attract investments in renewable energy projects\"', '2. \"Incentive structures for promoting private sector investment in renewable energy initiatives\"']\n",
            "\n",
            "🔍 Searching for subtask 11: Implement regulations that ensure fair access to the grid for renewable energy producers.\n",
            "Generated Queries: ['1. \"Best practices for implementing grid access regulations for renewable energy producers\"', '2. \"Policy frameworks for ensuring equitable grid integration of renewable energy sources\"']\n",
            "\n",
            "🔍 Searching for subtask 12: 4. **Technology Integration:**\n",
            "Generated Queries: ['1. \"Best practices for integrating new technology in business operations\"', '2. \"Impact of technology integration on productivity and efficiency\"']\n",
            "\n",
            "🔍 Searching for subtask 13: Integrate advanced metering infrastructure (AMI) to monitor and manage energy flow efficiently.\n",
            "Generated Queries: ['1. \"Best practices for integrating AMI systems for efficient energy management\"', '2. \"Advanced metering infrastructure implementation strategies for improved energy flow monitoring\"']\n",
            "\n",
            "🔍 Searching for subtask 14: Use predictive analytics and machine learning to\n",
            "Generated Queries: ['1. \"Applications of predictive analytics and machine learning in business\"', '2. \"Implementing machine learning models for predictive analytics\"']\n",
            "\n",
            "🧠 Reasoning agent compiling final answer...\n",
            "\n",
            "📝 Final Answer:\n",
            " Integrating renewable energy sources such as solar and wind into national power grids involves several steps and faces various challenges. Below is an overview of both the steps involved and the challenges encountered during the integration process.\n",
            "\n",
            "### Steps Involved in Integrating Renewable Energy Sources into National Power Grids\n",
            "\n",
            "1. **Assessment and Planning**: Conduct thorough assessments of the potential sites for renewable energy installations, taking into account geographical suitability, resource availability (sunlight and wind), and environmental impact. Develop detailed plans for the integration of these resources into the existing grid infrastructure.\n",
            "\n",
            "2. **Infrastructure Upgrades**: Upgrade the existing power grid infrastructure to accommodate the variability and intermittency of renewable energy sources. This may include enhancing transmission lines, substations, and distribution networks to ensure they can handle the fluctuating power outputs from solar and wind farms.\n",
            "\n",
            "3. **Energy Storage Solutions**: Implement energy storage systems to store excess energy generated during peak production times and release it during periods of low production or high demand. Technologies such as batteries\n"
          ]
        }
      ]
    },
    {
      "cell_type": "code",
      "source": [],
      "metadata": {
        "id": "MgO6Rq6KRkWN"
      },
      "execution_count": null,
      "outputs": []
    }
  ]
}