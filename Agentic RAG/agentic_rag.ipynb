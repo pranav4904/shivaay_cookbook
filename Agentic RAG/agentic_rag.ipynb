{
  "nbformat": 4,
  "nbformat_minor": 0,
  "metadata": {
    "colab": {
      "provenance": []
    },
    "kernelspec": {
      "name": "python3",
      "display_name": "Python 3"
    },
    "language_info": {
      "name": "python"
    }
  },
  "cells": [
    {
      "cell_type": "markdown",
      "source": [
        "# Agentic RAG\n",
        "\n",
        "This project showcases an agentic Retrieval-Augmented Generation (RAG) system that intelligently combines autonomous agents with vector-based semantic search to tackle complex queries. By breaking down questions into manageable subtasks, generating targeted search queries, and reasoning over retrieved information, the system mimics human-like problem-solving.\n",
        "\n",
        "Core elements include:\n",
        "\n",
        "- **Embedding Model (SentenceTransformer)**: Converts text into dense vectors for effective similarity matching.\n",
        "- **Pinecone Vector Database**: Provides fast and scalable retrieval of relevant document embeddings.\n",
        "- **Shivaay Agentic Pipeline**: A set of AI agents that plan, search, retrieve, and reason in a modular fashion to produce precise and context-aware answers.\n",
        "\n",
        "This agentic RAG approach enhances the flexibility and depth of question answering, enabling dynamic interaction with large knowledge bases and supporting advanced AI applications such as intelligent assistants and research aids.\n"
      ],
      "metadata": {
        "id": "o_GeK4A__ox3"
      }
    },
    {
      "cell_type": "markdown",
      "source": [
        "### Step 1: Install Required Libraries\n",
        "\n",
        "Before running the code, ensure you have the necessary Python libraries installed. You can install them using pip:\n",
        "\n",
        "```bash\n",
        "pip install requests\n",
        "pip install pinecone\n",
        "pip install sentence-transformers\n"
      ],
      "metadata": {
        "id": "Bl-XLYKu_6Zh"
      }
    },
    {
      "cell_type": "markdown",
      "source": [
        "###  Step 2: Imports and Configuration\n",
        "\n",
        "We import the necessary libraries:\n",
        "- `requests`: To make HTTP requests (e.g., calling external APIs).\n",
        "- `time`: For handling delays or timing operations.\n",
        "- `Pinecone` and `ServerlessSpec` from `pinecone`: To interact with Pinecone vector database.\n",
        "- `SentenceTransformer` from `sentence_transformers`: To generate text embeddings.\n",
        "\n",
        "We also define important configuration values:\n",
        "- `PINECONE_API_KEY`: Authentication key for accessing Pinecone.\n",
        "- `SHIVAAY_API_KEY`: API key for authenticating with the Shivaay AI service.\n",
        "- `SHIVAAY_API_URL`: The endpoint URL to send chat completion requests.\n",
        "- `INDEX_NAME`: The name of the Pinecone index we'll use or create.\n",
        "- `EMBEDDING_MODEL`: Specifies the pre-trained model used for generating embeddings.\n",
        "\n",
        "This sets up everything needed to connect to external services and begin working with text embeddings and vector search."
      ],
      "metadata": {
        "id": "hTTBADp58Alh"
      }
    },
    {
      "cell_type": "code",
      "source": [
        "import requests\n",
        "import time\n",
        "from pinecone import Pinecone, ServerlessSpec\n",
        "from sentence_transformers import SentenceTransformer\n",
        "\n",
        "PINECONE_API_KEY = \"YOUR-PINE-API-KEY\"\n",
        "SHIVAAY_API_KEY = \"YOUR-SHIVAAY-API-KEY\"\n",
        "SHIVAAY_API_URL = \"https://api.futurixai.com/api/shivaay/v1/chat/completions\"\n",
        "INDEX_NAME = \"YOUR-PINE-INDEX-NAME\"\n",
        "EMBEDDING_MODEL = \"sentence-transformers/all-mpnet-base-v2\""
      ],
      "metadata": {
        "id": "BOqJ2YRq3C3l"
      },
      "execution_count": 20,
      "outputs": []
    },
    {
      "cell_type": "markdown",
      "source": [
        "### Step 3: Pinecone Initialization and Model Loading\n",
        "\n",
        "We initialize the Pinecone vector database and load the embedding model:\n",
        "\n",
        "- `Pinecone(api_key=PINECONE_API_KEY)`: Authenticates with the Pinecone service using our API key.\n",
        "- `pc.list_indexes().names()`: Lists all existing indexes. If our target index (`INDEX_NAME`) does not exist, we create it.\n",
        "- `pc.create_index(...)`: Creates a new index with:\n",
        "  - `name`: The index name.\n",
        "  - `dimension`: Set to 768 to match the embedding vector size of our model.\n",
        "  - `metric`: We use cosine similarity for measuring vector similarity.\n",
        "  - `ServerlessSpec`: Defines the serverless environment configuration (cloud and region).\n",
        "- `pc.Index(INDEX_NAME)`: Connects to the index for further operations like upserting or querying.\n",
        "- `SentenceTransformer(EMBEDDING_MODEL)`: Loads the specified embedding model (e.g., `all-MiniLM-L6-v2`) to convert documents or queries into numerical vectors.\n",
        "\n",
        "This step ensures our vector storage (Pinecone) and embedding model are ready for use.\n"
      ],
      "metadata": {
        "id": "4rys4Szs-D-Y"
      }
    },
    {
      "cell_type": "code",
      "source": [
        "pc = Pinecone(api_key=PINECONE_API_KEY)\n",
        "if INDEX_NAME not in pc.list_indexes().names():\n",
        "    pc.create_index(\n",
        "        name=INDEX_NAME,\n",
        "        dimension=768,\n",
        "        metric=\"cosine\",\n",
        "        spec=ServerlessSpec(cloud=\"YOUR-PINE-API-CLOUD\", region=\"YOUR-PINE-API-REGION\")\n",
        "    )\n",
        "index = pc.Index(INDEX_NAME)\n",
        "\n",
        "model = SentenceTransformer(EMBEDDING_MODEL)"
      ],
      "metadata": {
        "id": "8KEVnfzq3RPi"
      },
      "execution_count": 21,
      "outputs": []
    },
    {
      "cell_type": "markdown",
      "source": [
        "### Step 4: Shivaay Agents for Task-Oriented Processing\n",
        "\n",
        "This step defines a series of specialized agents that break down a complex question, retrieve relevant documents, and generate an intelligent response using the Shivaay LLM API.\n",
        "\n",
        "- **`call_shivaay()`**: A helper function that sends a request to the Shivaay API with:\n",
        "  - Message history (`messages`)\n",
        "  - Temperature and token limit settings\n",
        "  - It returns the LLM's response from the API.\n",
        "\n",
        "- **`planning_agent(user_question)`**:\n",
        "  - Breaks the user’s question into logical subtasks using the LLM.\n",
        "  - Useful for complex queries that require multiple steps.\n",
        "\n",
        "- **`search_agent(subtask)`**:\n",
        "  - Takes a subtask and asks the LLM to generate 2–3 focused search queries.\n",
        "  - These queries are used to find relevant information in the vector database.\n",
        "\n",
        "- **`retrieval_agent(queries)`**:\n",
        "  - Converts each search query to an embedding vector using the model.\n",
        "  - Searches the Pinecone index with the vector and retrieves the top-k relevant document snippets.\n",
        "  - Formats the search results for downstream use.\n",
        "\n",
        "- **`reasoning_agent(question, context)`**:\n",
        "  - Takes the original user question and the retrieved context as input.\n",
        "  - Sends them to the LLM to generate a final answer based on reasoning over the context.\n",
        "\n",
        "These agents work together to mimic a modular RAG (Retrieval-Augmented Generation) pipeline.\n"
      ],
      "metadata": {
        "id": "e7owacD--JTH"
      }
    },
    {
      "cell_type": "code",
      "source": [
        "def call_shivaay(messages, temperature=0.3, max_tokens=500):\n",
        "    headers = {\n",
        "        \"Content-Type\": \"application/json\",\n",
        "        \"Authorization\": f\"Bearer {SHIVAAY_API_KEY}\"\n",
        "    }\n",
        "    payload = {\n",
        "        \"model\": \"shivaay\",\n",
        "        \"messages\": messages,\n",
        "        \"temperature\": temperature,\n",
        "        \"max_tokens\": max_tokens\n",
        "    }\n",
        "    response = requests.post(SHIVAAY_API_URL, headers=headers, json=payload)\n",
        "    response.raise_for_status()\n",
        "    return response.json()[\"choices\"][0][\"message\"][\"content\"]\n",
        "\n",
        "def planning_agent(user_question):\n",
        "    messages = [\n",
        "        {\"role\": \"system\", \"content\": \"Break down the user question into logical steps.\"},\n",
        "        {\"role\": \"user\", \"content\": user_question}\n",
        "    ]\n",
        "    return call_shivaay(messages)\n",
        "\n",
        "def search_agent(subtask):\n",
        "    messages = [\n",
        "        {\"role\": \"system\", \"content\": \"Generate 2-3 relevant search queries.\"},\n",
        "        {\"role\": \"user\", \"content\": subtask}\n",
        "    ]\n",
        "    raw = call_shivaay(messages)\n",
        "    return [q.strip(\"- \").strip() for q in raw.split(\"\\n\") if q.strip()]\n",
        "\n",
        "def retrieval_agent(queries):\n",
        "    results = []\n",
        "    for query in queries:\n",
        "        query_embedding = model.encode(query).tolist()\n",
        "        pinecone_results = index.query(\n",
        "            vector=query_embedding,\n",
        "            top_k=3,\n",
        "            include_metadata=True\n",
        "        )\n",
        "        for match in pinecone_results.matches:\n",
        "            results.append(f\"Relevant document for '{query}': {match.metadata['text']}\")\n",
        "    return \"\\n\".join(results)\n",
        "\n",
        "def reasoning_agent(question, context):\n",
        "    messages = [\n",
        "        {\"role\": \"system\", \"content\": f\"Context:\\n{context}\"},\n",
        "        {\"role\": \"user\", \"content\": question}\n",
        "    ]\n",
        "    return call_shivaay(messages, temperature=0.2)"
      ],
      "metadata": {
        "id": "jfyQhxKS3TFE"
      },
      "execution_count": 27,
      "outputs": []
    },
    {
      "cell_type": "markdown",
      "source": [
        "### Step 5: Embedding and Indexing Custom Documents\n",
        "\n",
        "In this step, we manually define a small set of knowledge documents about the Indian Army, which will be indexed into Pinecone for semantic search.\n",
        "\n",
        "- **`documents`**: A list of short factual sentences related to the Indian Army.\n",
        "\n",
        "- **Embedding**:\n",
        "  - We use the `SentenceTransformer` model (`model.encode()`) to convert each document into a high-dimensional vector representation that captures its semantic meaning.\n",
        "\n",
        "- **Indexing into Pinecone**:\n",
        "  - We prepare the vectors in a format accepted by Pinecone (each with an ID, the vector values, and metadata).\n",
        "  - `index.upsert()` inserts or updates these vectors into the Pinecone index for retrieval.\n",
        "\n",
        "Once this step is completed, the semantic search system can match user queries with these documents based on meaning rather than exact keywords.\n"
      ],
      "metadata": {
        "id": "OXNJeKvb-VtF"
      }
    },
    {
      "cell_type": "code",
      "source": [
        "documents = [\n",
        "    \"The Indian Army has over 1.4 million active personnel.\",\n",
        "    \"It was established on 15th August 1947.\",\n",
        "    \"The Army participates in UN peacekeeping missions.\",\n",
        "    \"Modernization includes indigenous weapons development.\"\n",
        "]\n",
        "\n",
        "embeddings = model.encode(documents).tolist()\n",
        "vectors = [{\"id\": f\"doc{i}\", \"values\": emb, \"metadata\": {\"text\": doc}}\n",
        "          for i, (doc, emb) in enumerate(zip(documents, embeddings))]\n",
        "index.upsert(vectors=vectors)\n",
        "\n",
        "print(\"✅ Documents indexed!\")"
      ],
      "metadata": {
        "colab": {
          "base_uri": "https://localhost:8080/"
        },
        "id": "klMkl94d3WYz",
        "outputId": "84512e0c-2e7e-4ff9-b4d0-54cfd741c9fb"
      },
      "execution_count": 23,
      "outputs": [
        {
          "output_type": "stream",
          "name": "stdout",
          "text": [
            "✅ Documents indexed!\n"
          ]
        }
      ]
    },
    {
      "cell_type": "markdown",
      "source": [
        "### Step 6: Interactive QA Pipeline Execution\n",
        "\n",
        "This step executes the full question-answering pipeline using the Shivaay-powered agents:\n",
        "\n",
        "- **User Input**:\n",
        "  - The user is prompted to enter a complex, multi-part question.\n",
        "  \n",
        "- **Planning Agent**:\n",
        "  - The input is sent to the `planning_agent`, which breaks it down into logical subtasks.\n",
        "  - These subtasks are extracted as a list for further processing.\n",
        "\n",
        "- **Search Agent and Retrieval**:\n",
        "  - For each subtask, the `search_agent` generates multiple semantic search queries.\n",
        "  - These queries are sent to the `retrieval_agent`, which searches the Pinecone vector index and retrieves the top relevant document snippets.\n",
        "  - All retrieved contexts are collected for the final reasoning step.\n",
        "\n",
        "- **Reasoning Agent**:\n",
        "  - The full set of retrieved contexts and the original question are sent to the `reasoning_agent`, which generates a coherent, synthesized answer using Shivaay AI.\n",
        "\n",
        "This interactive loop allows the system to semantically understand the user's question, search for relevant knowledge, and reason over it to generate an accurate, context-aware answer.\n"
      ],
      "metadata": {
        "id": "u-tJ3RKh-xMe"
      }
    },
    {
      "cell_type": "code",
      "source": [
        "user_question = input(\"💬 Enter your complex question: \")\n",
        "\n",
        "print(\"\\n🧠 Planning agent thinking...\")\n",
        "plan = planning_agent(user_question)\n",
        "print(\"✅ Plan:\\n\", plan)\n",
        "\n",
        "subtasks = [line.strip(\"- \").strip() for line in plan.split(\"\\n\") if line.strip()]\n",
        "all_contexts = []\n",
        "\n",
        "for i, task in enumerate(subtasks):\n",
        "    print(f\"\\n🔍 Processing subtask {i+1}: {task}\")\n",
        "    queries = search_agent(task)\n",
        "    print(\"Generated Queries:\", queries)\n",
        "\n",
        "    context = retrieval_agent(queries)\n",
        "    all_contexts.append(context)\n",
        "    print(f\"📚 Retrieved {len(context.splitlines())} documents\")\n",
        "\n",
        "print(\"\\n🧠 Reasoning agent compiling final answer...\")\n",
        "final_context = \"\\n\\n\".join(all_contexts)\n",
        "answer = reasoning_agent(user_question, final_context)\n",
        "\n",
        "print(\"\\n📝 Final Answer:\\n\", answer)"
      ],
      "metadata": {
        "colab": {
          "base_uri": "https://localhost:8080/"
        },
        "id": "tFU69mmp3Y9X",
        "outputId": "183d48a2-026f-4d5a-e71a-d9ac793421e3"
      },
      "execution_count": 28,
      "outputs": [
        {
          "output_type": "stream",
          "name": "stdout",
          "text": [
            "💬 Enter your complex question: How has the Indian Army contributed to global peace efforts, and how does this align with its modernization initiatives post-independence?\n",
            "\n",
            "🧠 Planning agent thinking...\n",
            "✅ Plan:\n",
            " To address the question about the Indian Army's contributions to global peace efforts and how these align with its modernization initiatives post-independence, we can break it down into several logical steps:\n",
            "\n",
            "1. **Historical Context of Indian Army Post-Independence:**\n",
            "   - Understand the role of the Indian Army during the partition of India in 1947.\n",
            "   - Examine the initial challenges faced by the newly formed Indian Army in terms of infrastructure, manpower, and equipment.\n",
            "\n",
            "2. **Early Contributions to Global Peace Efforts:**\n",
            "   - Identify early instances where the Indian Army participated in United Nations (UN) peacekeeping missions.\n",
            "   - Discuss the significance of these missions in terms of international relations and the image of India as a peace-loving nation.\n",
            "\n",
            "3. **Modernization Initiatives Post-Independence:**\n",
            "   - Outline key milestones in the modernization of the Indian Army, including technological advancements, training reforms, and strategic partnerships.\n",
            "   - Highlight the importance of these initiatives in enhancing the operational capabilities of the Indian Army.\n",
            "\n",
            "4. **Alignment Between Peace Efforts and Modernization:**\n",
            "   - Analyze how the modernization of the Indian Army supports its role in global peacekeeping operations.\n",
            "   - Explore the ways in which participation in peacekeeping missions influences the development and prioritization of modernization initiatives.\n",
            "\n",
            "5. **Current Role and Future Prospects:**\n",
            "   - Review the current status of the Indian Army's involvement in global peacekeeping and humanitarian assistance.\n",
            "   - Discuss future plans for modernization and their potential impact on the army's ability to contribute effectively to global peace efforts.\n",
            "\n",
            "By following these steps, we can comprehensively examine the Indian Army's contributions to global peace and how these efforts are intertwined with its ongoing modernization process.\n",
            "\n",
            "🔍 Processing subtask 1: To address the question about the Indian Army's contributions to global peace efforts and how these align with its modernization initiatives post-independence, we can break it down into several logical steps:\n",
            "Generated Queries: ['1. \"Indian Army\\'s role in UN Peacekeeping missions post-independence\"', '2. \"Modernization of the Indian Army and its impact on global peacekeeping operations\"', '3. \"How the Indian Army\\'s advancements in technology support its peacekeeping efforts globally\"']\n",
            "📚 Retrieved 9 documents\n",
            "\n",
            "🔍 Processing subtask 2: 1. **Historical Context of Indian Army Post-Independence:**\n",
            "Generated Queries: ['1. \"Evolution of the Indian Army after Independence\"', '2. \"Key Challenges Faced by the Indian Army Post-Independence\"']\n",
            "📚 Retrieved 6 documents\n",
            "\n",
            "🔍 Processing subtask 3: Understand the role of the Indian Army during the partition of India in 1947.\n",
            "Generated Queries: ['1. \"Role of the Indian Army in maintaining law and order during the Partition of India in 1947\"', '2. \"Indian Army\\'s involvement in protecting civilians during the Partition riots of 1947\"']\n",
            "📚 Retrieved 6 documents\n",
            "\n",
            "🔍 Processing subtask 4: Examine the initial challenges faced by the newly formed Indian Army in terms of infrastructure, manpower, and equipment.\n",
            "Generated Queries: ['1. \"Initial infrastructure challenges faced by the Indian Army post-independence\"', '2. \"Manpower and recruitment issues in the early years of the Indian Army\"', '3. \"Equipment shortages and modernization efforts in the nascent Indian Army\"']\n",
            "📚 Retrieved 9 documents\n",
            "\n",
            "🔍 Processing subtask 5: 2. **Early Contributions to Global Peace Efforts:**\n",
            "Generated Queries: ['1. \"Role of India in early global peacekeeping missions\"', '2. \"Contribution of Indian leaders to international peace efforts post-independence\"']\n",
            "📚 Retrieved 6 documents\n",
            "\n",
            "🔍 Processing subtask 6: Identify early instances where the Indian Army participated in United Nations (UN) peacekeeping missions.\n",
            "Generated Queries: ['1. \"First deployment of the Indian Army in UN peacekeeping missions\"', '2. \"Indian Army\\'s role in the UN peacekeeping mission in Congo (1960-1964)\"', '3. \"Early involvement of India in UN peacekeeping operations: Key missions and dates\"']\n",
            "📚 Retrieved 9 documents\n",
            "\n",
            "🔍 Processing subtask 7: Discuss the significance of these missions in terms of international relations and the image of India as a peace-loving nation.\n",
            "Generated Queries: ['1. \"Significance of Indian UN Peacekeeping Missions on International Relations and India\\'s Image as a Peace-Loving Nation\"', '2. \"Impact of India\\'s Participation in International Peacekeeping Operations on Global Perception and Diplomatic Relations\"']\n",
            "📚 Retrieved 6 documents\n",
            "\n",
            "🔍 Processing subtask 8: 3. **Modernization Initiatives Post-Independence:**\n",
            "Generated Queries: ['1. \"Key modernization initiatives in India post-independence\"', '2. \"Economic reforms and modernization in India since 1947\"']\n",
            "📚 Retrieved 6 documents\n",
            "\n",
            "🔍 Processing subtask 9: Outline key milestones in the modernization of the Indian Army, including technological advancements, training reforms, and strategic partnerships.\n",
            "Generated Queries: ['1. \"Key Technological Advancements and Modernization Milestones in the Indian Army Post-Independence\"', '2. \"Training Reforms and Strategic Partnerships in the Indian Army: A Comprehensive Overview\"', '3. \"Evolution of the Indian Army: From Traditional Warfare to Modern Combat Capabilities\"']\n",
            "📚 Retrieved 9 documents\n",
            "\n",
            "🔍 Processing subtask 10: Highlight the importance of these initiatives in enhancing the operational capabilities of the Indian Army.\n",
            "Generated Queries: ['1. \"Impact of advanced AI and machine learning technologies on the operational efficiency of the Indian Army\"', '2. \"Role of FuturixAI\\'s Indic API services in improving communication and situational awareness within the Indian Army\"']\n",
            "📚 Retrieved 6 documents\n",
            "\n",
            "🔍 Processing subtask 11: 4. **Alignment Between Peace Efforts and Modernization:**\n",
            "Generated Queries: ['1. \"Impact of modernization on peace efforts in developing countries\"', '2. \"Balancing traditional peacekeeping methods with modern technological advancements\"']\n",
            "📚 Retrieved 6 documents\n",
            "\n",
            "🔍 Processing subtask 12: Analyze how the modernization of the Indian Army supports its role in global peacekeeping operations.\n",
            "Generated Queries: ['1. \"Impact of Modernization on the Indian Army\\'s Global Peacekeeping Capabilities\"', '2. \"Role of Technological Advancements in Enhancing India\\'s Contribution to UN Peacekeeping Missions\"', '3. \"How Upgrades in Military Equipment and Training Programs Strengthen the Indian Army\\'s Peacekeeping Efforts\"']\n",
            "📚 Retrieved 9 documents\n",
            "\n",
            "🔍 Processing subtask 13: Explore the ways in which participation in peacekeeping missions influences the development and prioritization of modernization initiatives.\n",
            "Generated Queries: ['1. \"Impact of Peacekeeping Missions on Modernization Initiatives in Developing Nations\"', '2. \"Role of International Peacekeeping in Promoting Economic and Social Modernization\"', '3. \"Strategies for Integrating Modernization Goals with Peacekeeping Operations: A Case Study Approach\"']\n",
            "📚 Retrieved 9 documents\n",
            "\n",
            "🔍 Processing subtask 14: 5. **Current Role and Future Prospects:**\n",
            "Generated Queries: ['1. What are the future prospects for large language models like Shivaay?', '2. How is FuturixAI planning to enhance its Indic API services in the coming years?']\n",
            "📚 Retrieved 6 documents\n",
            "\n",
            "🔍 Processing subtask 15: Review the current status of the Indian Army's involvement in global peacekeeping and humanitarian assistance.\n",
            "Generated Queries: ['1. \"Current role of the Indian Army in United Nations Peacekeeping Missions\"', '2. \"Indian Army\\'s contributions to global humanitarian assistance and disaster relief operations\"', '3. \"Recent deployments and activities of the Indian Army in international peacekeeping efforts\"']\n",
            "📚 Retrieved 9 documents\n",
            "\n",
            "🔍 Processing subtask 16: Discuss future plans for modernization and their potential impact on the army's ability to contribute effectively to global peace efforts.\n",
            "Generated Queries: ['1. \"Impact of technological advancements on the modernization of armies and their role in global peacekeeping\"', '2. \"Future plans for army modernization and their implications for global peace operations efficiency\"', '3. \"Role of emerging technologies in enhancing the military\\'s contribution to international peacekeeping missions\"']\n",
            "📚 Retrieved 9 documents\n",
            "\n",
            "🔍 Processing subtask 17: By following these steps, we can comprehensively examine the Indian Army's contributions to global peace and how these efforts are intertwined with its ongoing modernization process.\n",
            "Generated Queries: ['1. \"Indian Army\\'s role in UN Peacekeeping missions and its impact on global peace\"', '2. \"Modernization of the Indian Army: How advancements support international peacekeeping efforts\"', '3. \"Integration of technology in the Indian Army: Enhancing capabilities for global peace operations\"']\n",
            "📚 Retrieved 9 documents\n",
            "\n",
            "🧠 Reasoning agent compiling final answer...\n",
            "\n",
            "📝 Final Answer:\n",
            " The Indian Army has made significant contributions to global peace efforts through its participation in United Nations (UN) peacekeeping missions. Since the first deployment in 1950 to Korea, the Indian Army has been actively involved in various peacekeeping operations around the world, reflecting India's commitment to international peace and security. This involvement not only helps in maintaining peace and stability in conflict zones but also enhances India's image as a responsible global player committed to peaceful resolutions of conflicts.\n",
            "\n",
            "Post-independence, the Indian Army's modernization initiatives have played a crucial role in supporting these peacekeeping efforts. These initiatives include the development and integration of indigenous weapons and technology, which have significantly enhanced the operational capabilities of the Indian Army. Here are some key aspects of how modernization supports the Indian Army's global peacekeeping efforts:\n",
            "\n",
            "1. **Indigenous Weaponry and Technology**: The Indian Army has been focusing on the development of indigenous weapons and technology, such as tanks, artillery, and small arms. This not only reduces dependency on foreign suppliers but also ensures that the equipment used in peacekeeping missions is tailored to the specific needs and conditions of the regions where they are deployed.\n",
            "\n",
            "2. **Advanced Communication Systems**: Modernization includes the adoption of advanced communication systems that improve coordination and situational awareness among troops. This is particularly important in peacekeeping missions where effective communication can be a matter of life and death.\n",
            "\n",
            "3. **Training and Doctrine**: The Indian Army has been reforming its training programs and doctrine to better equip soldiers for peacekeeping roles. This includes specialized training in areas such as humanitarian assistance, civil-military cooperation, and conflict resolution.\n",
            "\n",
            "4. **Logistical Support**: Enhanced logistical capabilities ensure that the Indian Army can sustain its operations in far-flung and challenging environments. This includes improved transportation, medical facilities, and supply chains.\n",
            "\n",
            "5. **Humanitarian Assistance and Disaster Relief (HADR)**: The Indian Army's modernization efforts extend to its capacity to provide HADR. This capability is often utilized in peacekeeping missions where the army plays a dual role of maintaining peace and providing aid to affected populations.\n",
            "\n",
            "6. **Technological Integration**: The integration of modern technologies such as drones, surveillance systems, and information management tools helps in monitoring and managing complex peacekeeping environments more effectively.\n",
            "\n",
            "By aligning its modernization initiatives with its peacekeeping commitments, the Indian Army aims to become a more versatile and capable force that can contribute effectively to global peace and security. This approach not only strengthens India's position as a\n"
          ]
        }
      ]
    },
    {
      "cell_type": "code",
      "source": [],
      "metadata": {
        "id": "mM8B0vyq3bSi"
      },
      "execution_count": null,
      "outputs": []
    }
  ]
}