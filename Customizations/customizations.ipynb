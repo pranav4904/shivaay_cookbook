{
  "nbformat": 4,
  "nbformat_minor": 0,
  "metadata": {
    "colab": {
      "provenance": []
    },
    "kernelspec": {
      "name": "python3",
      "display_name": "Python 3"
    },
    "language_info": {
      "name": "python"
    }
  },
  "cells": [
    {
      "cell_type": "markdown",
      "source": [
        "#  Customizations\n",
        "\n",
        "In this section, we explore how to further control and customize the AI’s responses using advanced parameters and conversational context.\n",
        "\n",
        "You’ll see examples that:  \n",
        "- Maintain context across multiple messages to create a more natural, multi-turn conversation.  \n",
        "- Use role-based instructions to set the assistant’s personality and tone.  \n",
        "- Adjust parameters like `top_p` and `repetition_penalty` to improve response quality and avoid repetition.\n",
        "\n",
        "By combining these techniques, you can create a more engaging, clear, and relevant AI assistant tailored to your needs.\n"
      ],
      "metadata": {
        "id": "b51nL-00VTb4"
      }
    },
    {
      "cell_type": "code",
      "source": [
        "\n",
        "API_KEY = \"682b51ad9441064afe0a3b71\" # Replace with your API key\n",
        "API_URL = \"https://api.futurixai.com/api/shivaay/v1/chat/completions\"\n"
      ],
      "metadata": {
        "id": "Zlgah3zpT9bd"
      },
      "execution_count": 1,
      "outputs": []
    },
    {
      "cell_type": "markdown",
      "source": [
        "###  Maintaining Conversation Context with Multi-Turn Dialogue\n",
        "\n",
        "In this example, we provide the entire conversation history to the model by including previous messages in the `messages` list. This helps Shivaay understand the flow of the conversation and respond appropriately based on the earlier exchanges.\n",
        "\n",
        "- The `\"system\"` message sets the assistant’s behavior as friendly.\n",
        "- Previous user and assistant messages create context.\n",
        "- The latest user question builds upon that context.\n",
        "\n",
        "This technique enables more natural, coherent multi-turn conversations rather than isolated single-turn queries.\n"
      ],
      "metadata": {
        "id": "EDKIED_wUqiq"
      }
    },
    {
      "cell_type": "code",
      "execution_count": 2,
      "metadata": {
        "colab": {
          "base_uri": "https://localhost:8080/"
        },
        "id": "P_QMDmzAS3qR",
        "outputId": "caf3bda1-6f47-4d7a-9ad3-1371c17456fe"
      },
      "outputs": [
        {
          "output_type": "stream",
          "name": "stdout",
          "text": [
            "Certainly! Artificial Intelligence (AI) can be categorized into several types based on their capabilities and the level of sophistication. Here are some of the primary categories:\n",
            "\n",
            "1. **Narrow or Weak AI**: This type of AI is designed and trained for a specific task. It can perform that task very well but lacks the ability to perform any other tasks. Examples include virtual assistants like Siri or Alexa, recommendation systems used by Netflix or Amazon, and autonomous vehicles.\n",
            "\n",
            "2. **General or Strong AI**: Also known as AGI (Artificial General Intelligence), this type of AI would have the ability to understand, learn, and apply knowledge across a wide range of tasks and domains, much like a human being. Currently, this kind of AI does not exist yet, but it's a goal for many researchers in the field.\n",
            "\n",
            "3. **Superintelligent AI**: This refers to a hypothetical future AI that surpasses human intelligence in every aspect. It could potentially solve problems and develop new technologies that humans cannot\n"
          ]
        }
      ],
      "source": [
        "import requests\n",
        "\n",
        "headers = {\n",
        "    \"Content-Type\": \"application/json\",\n",
        "    \"Authorization\": f\"Bearer {API_KEY}\"\n",
        "}\n",
        "\n",
        "payload = {\n",
        "    \"model\": \"shivaay\",\n",
        "    \"messages\": [\n",
        "        {\"role\": \"system\", \"content\": \"You are a friendly assistant.\"},\n",
        "        {\"role\": \"user\", \"content\": \"What is artificial intelligence?\"},\n",
        "        {\"role\": \"assistant\", \"content\": \"Artificial intelligence is the simulation of human intelligence in machines.\"},\n",
        "        {\"role\": \"user\", \"content\": \"Can you explain types of AI?\"}\n",
        "    ],\n",
        "    \"temperature\": 0.7,\n",
        "    \"max_tokens\": 200\n",
        "}\n",
        "\n",
        "response = requests.post(API_URL, headers=headers, json=payload)\n",
        "print(response.json()['choices'][0]['message']['content'])\n"
      ]
    },
    {
      "cell_type": "markdown",
      "source": [
        "###  Reusing Assistant Style for Consistent Responses\n",
        "\n",
        "This example shows how to instruct Shivaay to maintain a consistent style throughout a conversation by:\n",
        "\n",
        "- Defining the assistant as an expert who explains concepts simply and clearly in the `\"system\"` message.\n",
        "- Providing an example explanation from the assistant in a simple, numbered list format.\n",
        "- Asking the assistant to respond in the same style for the next user query.\n",
        "\n",
        "By including the assistant’s previous response, you guide Shivaay to continue with the same tone and format, improving response coherence and user experience.\n"
      ],
      "metadata": {
        "id": "QLb8fErxU5-o"
      }
    },
    {
      "cell_type": "code",
      "source": [
        "import requests\n",
        "\n",
        "headers = {\n",
        "    \"Content-Type\": \"application/json\",\n",
        "    \"Authorization\": f\"Bearer {API_KEY}\"\n",
        "}\n",
        "\n",
        "\n",
        "payload = {\n",
        "    \"model\": \"shivaay\",\n",
        "    \"messages\": [\n",
        "        {\"role\": \"system\", \"content\": \"You are an expert who explains concepts simply and clearly.\"},\n",
        "        {\"role\": \"user\", \"content\": \"Explain photosynthesis in 3 simple points.\"},\n",
        "        {\"role\": \"assistant\", \"content\": \"1. Plants use sunlight to make food.\\n2. They take in carbon dioxide and water.\\n3. Oxygen is released as a byproduct.\"},\n",
        "        {\"role\": \"user\", \"content\": \"Explain the water cycle in the same style.\"}\n",
        "    ],\n",
        "    \"temperature\": 0.5,\n",
        "    \"max_tokens\": 150\n",
        "}\n",
        "\n",
        "response = requests.post(API_URL, headers=headers, json=payload)\n",
        "print(response.json()['choices'][0]['message']['content'])\n",
        "\n"
      ],
      "metadata": {
        "colab": {
          "base_uri": "https://localhost:8080/"
        },
        "id": "nIndEMCmT6SH",
        "outputId": "069baa13-19e4-4285-d7f2-c6acda3d884d"
      },
      "execution_count": 3,
      "outputs": [
        {
          "output_type": "stream",
          "name": "stdout",
          "text": [
            "1. Water evaporates from oceans, lakes, and rivers due to the sun's heat.\n",
            "2. The water vapor cools and turns back into liquid, forming clouds.\n",
            "3. When the clouds get heavy, it rains, and the water returns to the earth.\n"
          ]
        }
      ]
    },
    {
      "cell_type": "markdown",
      "source": [
        "### 🎯 Enhancing Response Quality with Advanced Parameters\n",
        "\n",
        "This example demonstrates how to fine-tune the output using additional parameters beyond `temperature` and `max_tokens`:\n",
        "\n",
        "- **`top_p` (Nucleus Sampling):**  \n",
        "  Limits the model's token selection to the most probable tokens, helping produce more focused and coherent responses.\n",
        "\n",
        "- **`repetition_penalty`:**  \n",
        "  Discourages the model from repeating the same phrases or sentences, improving the readability and diversity of the output.\n",
        "\n",
        "By combining these parameters, you can generate clear, concise, and non-repetitive summaries or explanations, as shown in the summary of the book *1984*.\n"
      ],
      "metadata": {
        "id": "UwrLZBzNVDMG"
      }
    },
    {
      "cell_type": "code",
      "source": [
        "import requests\n",
        "\n",
        "headers = {\n",
        "    \"Content-Type\": \"application/json\",\n",
        "    \"Authorization\": f\"Bearer {API_KEY}\"\n",
        "}\n",
        "\n",
        "\n",
        "payload = {\n",
        "    \"model\": \"shivaay\",\n",
        "    \"messages\": [\n",
        "        {\"role\": \"system\", \"content\": \"You are a clear and concise assistant.\"},\n",
        "        {\"role\": \"user\", \"content\": \"Give me a summary of the book '1984'.\"}\n",
        "    ],\n",
        "    \"temperature\": 0.6,\n",
        "    \"top_p\": 0.9,  # Limits token selection to most likely tokens\n",
        "    \"repetition_penalty\": 1.2,  # Penalizes repetitive text generation\n",
        "    \"max_tokens\": 150\n",
        "}\n",
        "\n",
        "response = requests.post(API_URL, headers=headers, json=payload)\n",
        "print(response.json()['choices'][0]['message']['content'])\n",
        "\n"
      ],
      "metadata": {
        "colab": {
          "base_uri": "https://localhost:8080/"
        },
        "id": "NLuuIKrYUUaP",
        "outputId": "c9f33804-4dbe-44e7-efd2-729f38fa0737"
      },
      "execution_count": 4,
      "outputs": [
        {
          "output_type": "stream",
          "name": "stdout",
          "text": [
            "\"1984,\" written by George Orwell and published in 1949, is a dystopian novel that takes place in Airstrip One (formerly known as Great Britain), which is part of Oceania under an oppressive totalitarian regime called Big Brother's Party of Oceania.\n",
            "\n",
            "The story follows Winston Smith, who works at the Ministry of Truth where he alters historical records for propaganda purposes. The government controls every aspect of life through various ministries: Miniluv (Ministry of Love) deals with torture; Minitrue (Ministry of Truth) handles information control; Miniplenty manages economic production or lack thereof; and Minipax oversees war efforts.\n",
            "\n",
            "Winston begins questioning this system after meeting Julia, whom\n"
          ]
        }
      ]
    },
    {
      "cell_type": "code",
      "source": [],
      "metadata": {
        "id": "9viz2hOKUcCg"
      },
      "execution_count": null,
      "outputs": []
    }
  ]
}