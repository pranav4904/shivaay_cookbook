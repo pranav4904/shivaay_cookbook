{
  "nbformat": 4,
  "nbformat_minor": 0,
  "metadata": {
    "colab": {
      "provenance": []
    },
    "kernelspec": {
      "name": "python3",
      "display_name": "Python 3"
    },
    "language_info": {
      "name": "python"
    }
  },
  "cells": [
    {
      "cell_type": "markdown",
      "source": [
        "#  Prompt Engineering with Shivaay AI\n",
        "\n",
        "Prompt engineering is the art of designing effective input prompts to get the most useful or creative responses from an AI model. In this section, we'll experiment with:\n",
        "-  `temperature`: controls randomness of output\n",
        "-  `max_tokens`: controls the length of the response\n",
        "\n",
        "We'll use Shivaay's API via the `requests` library and try out different settings to observe how the model's response changes.\n",
        "\n",
        "*Note: If the output seems cut off or incomplete, try increasing the max_tokens.*\n",
        "\n",
        "Let's dive in!\n"
      ],
      "metadata": {
        "id": "ADDXQZYEO7xC"
      }
    },
    {
      "cell_type": "code",
      "source": [
        "API_KEY = \"682b51ad9441064afe0a3b71\"\n",
        "API_URL = \"https://api.futurixai.com/api/shivaay/v1/chat/completions\""
      ],
      "metadata": {
        "id": "lxYoOMaPPn5m"
      },
      "execution_count": 1,
      "outputs": []
    },
    {
      "cell_type": "markdown",
      "source": [
        "##  Example 1: Factual Output with Low Temperature\n",
        "\n",
        "- **Temperature = 0.2**: Encourages focused, deterministic output\n",
        "- **Prompt**: A direct, fact-based question\n",
        "- Ideal for factual Q&A, tutorials, and documentation\n"
      ],
      "metadata": {
        "id": "8NmBULIpPFZC"
      }
    },
    {
      "cell_type": "code",
      "execution_count": 2,
      "metadata": {
        "colab": {
          "base_uri": "https://localhost:8080/"
        },
        "id": "O6F3BjvvDxyw",
        "outputId": "ff7935e6-a07d-44a1-fc86-ab1010624ca7"
      },
      "outputs": [
        {
          "output_type": "stream",
          "name": "stdout",
          "text": [
            "Newton's third law states that for every action, there is an equal and opposite reaction.\n"
          ]
        }
      ],
      "source": [
        "import requests\n",
        "\n",
        "headers = {\n",
        "    \"Content-Type\": \"application/json\",\n",
        "    \"Authorization\": f\"Bearer {API_KEY}\"\n",
        "}\n",
        "\n",
        "payload = {\n",
        "    \"model\": \"shivaay\",\n",
        "    \"messages\": [\n",
        "        {\"role\": \"system\", \"content\": \"You are a precise and informative assistant.\"},\n",
        "        {\"role\": \"user\", \"content\": \"Explain Newton's third law in one line.\"}\n",
        "    ],\n",
        "    \"temperature\": 0.2,\n",
        "    \"max_tokens\": 50\n",
        "}\n",
        "\n",
        "response = requests.post(API_URL, headers=headers, json=payload)\n",
        "print(response.json()['choices'][0]['message']['content'])\n"
      ]
    },
    {
      "cell_type": "markdown",
      "source": [
        "##  Example 2: Creative Storytelling with High Temperature\n",
        "\n",
        "- **Temperature = 0.9**: Introduces randomness and imagination\n",
        "- Prompt asks the model to describe Newton's Law like a fantasy tale\n",
        "- Ideal for writing, storytelling, or branding tone experimentation\n"
      ],
      "metadata": {
        "id": "xS7esKDRPO76"
      }
    },
    {
      "cell_type": "code",
      "source": [
        "import requests\n",
        "\n",
        "\n",
        "headers = {\n",
        "    \"Content-Type\": \"application/json\",\n",
        "    \"Authorization\": f\"Bearer {API_KEY}\"\n",
        "}\n",
        "\n",
        "payload = {\n",
        "    \"model\": \"shivaay\",\n",
        "    \"messages\": [\n",
        "        {\"role\": \"system\", \"content\": \"You are a poetic assistant who explains science like a story.\"},\n",
        "        {\"role\": \"user\", \"content\": \"Describe Newton's third law like a football match.\"}\n",
        "    ],\n",
        "    \"temperature\": 0.9,\n",
        "    \"max_tokens\": 200\n",
        "}\n",
        "\n",
        "response = requests.post(API_URL, headers=headers, json=payload)\n",
        "print(response.json()['choices'][0]['message']['content'])\n"
      ],
      "metadata": {
        "colab": {
          "base_uri": "https://localhost:8080/"
        },
        "id": "vxKuG5ATPS2G",
        "outputId": "c7114c0c-5347-4d1b-f031-26979a7cea16"
      },
      "execution_count": 3,
      "outputs": [
        {
          "output_type": "stream",
          "name": "stdout",
          "text": [
            "In the grand stadium of physics, every player is governed by Newton’s laws, and none more beautifully than the third. Imagine a bustling football match, where each action on the field mirrors the forces at play in our world.\n",
            "\n",
            "As the game begins, one player, let’s call him Force A, kicks the ball with all his might towards the goal post. The ball, our intermediary object, responds with a bound and a bounce, only to find itself being met by another player, Force B, who attempts to stop its progress by exerting an equal and opposite force. In this match of momentum and mass, both players feel the impact of their actions as clearly as if they had kicked against each other.\n",
            "\n",
            "Newton’s third law states that for every action, there is an equal and opposite reaction. In our football analogy, when Force A kicks the ball, the ball simultaneously exerts an equal and opposite force back on Force A's foot. Similarly, when Force B tries to halt the ball's\n"
          ]
        }
      ]
    },
    {
      "cell_type": "markdown",
      "source": [
        "##  Example 3: Controlling Output Length with `max_tokens`\n",
        "\n",
        "- **max_tokens = 30**: Cuts the response early\n",
        "- Adjust `max_tokens` depending on how long you want the output to be\n",
        "- Useful in UI where space or time is limited (like mobile summaries)\n"
      ],
      "metadata": {
        "id": "3xVwAkKyPZtl"
      }
    },
    {
      "cell_type": "code",
      "source": [
        "import requests\n",
        "\n",
        "\n",
        "headers = {\n",
        "    \"Content-Type\": \"application/json\",\n",
        "    \"Authorization\": f\"Bearer {API_KEY}\"\n",
        "}\n",
        "\n",
        "payload = {\n",
        "    \"model\": \"shivaay\",\n",
        "    \"messages\": [\n",
        "        {\"role\": \"system\", \"content\": \"You are a helpful tutor.\"},\n",
        "        {\"role\": \"user\", \"content\": \"Summarize World War 2 in detail.\"}\n",
        "    ],\n",
        "    \"temperature\": 0.5,\n",
        "    \"max_tokens\": 50  # Try 200 for longer response\n",
        "}\n",
        "\n",
        "response = requests.post(API_URL, headers=headers, json=payload)\n",
        "print(response.json()['choices'][0]['message']['content'])\n"
      ],
      "metadata": {
        "colab": {
          "base_uri": "https://localhost:8080/"
        },
        "id": "kRznICLLPdeo",
        "outputId": "d2f361a6-e4dd-411f-fcc9-82ce5518f678"
      },
      "execution_count": 4,
      "outputs": [
        {
          "output_type": "stream",
          "name": "stdout",
          "text": [
            "World War II, which lasted from 1939 to 1945, was one of the largest and most destructive wars in human history. It involved most of the world's nations, including all of the great powers, eventually forming\n"
          ]
        }
      ]
    },
    {
      "cell_type": "code",
      "source": [],
      "metadata": {
        "id": "ddAOcHCSQXaS"
      },
      "execution_count": null,
      "outputs": []
    }
  ]
}