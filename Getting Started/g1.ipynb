Here’s the full Jupyter Notebook content:

```python
# 🧠 Shivaay AI: Getting Started Notebook

# Step 1: Import libraries
import requests
import json

# Step 2: Add your Shivaay API key here
API_KEY = "your_api_key_here"  # 🔒 Replace with your real API key

# Step 3: Define the API endpoint
API_URL = "https://api.shivaay.futurixai.com/v1/chat"

# Step 4: Set headers
headers = {
    "Authorization": f"Bearer {API_KEY}",
    "Content-Type": "application/json"
}

# Step 5: Create your prompt data
payload = {
    "prompt": "Hello Shivaay! Can you introduce yourself?",
    "temperature": 0.7,
    "max_tokens": 150
}

# Step 6: Make the API request
response = requests.post(API_URL, headers=headers, json=payload)

# Step 7: Display the response
if response.status_code == 200:
    print("✅ Success! Here's the response:")
    print(response.json())
else:
    print(f"❌ Failed with status code {response.status_code}")
    print(response.text)
