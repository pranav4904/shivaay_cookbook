{
  "nbformat": 4,
  "nbformat_minor": 0,
  "metadata": {
    "colab": {
      "provenance": []
    },
    "kernelspec": {
      "name": "python3",
      "display_name": "Python 3"
    },
    "language_info": {
      "name": "python"
    }
  },
  "cells": [
    {
      "cell_type": "markdown",
      "source": [
        "# Getting Started with Shivaay AI in Google Colab\n",
        "\n",
        "Welcome! This notebook will help you quickly get started with the Shivaay AI chatbot API.\n",
        "\n",
        "You'll learn how to:\n",
        "\n",
        "- Install required Python libraries.\n",
        "- Set up your API credentials securely.\n",
        "- Make requests to Shivaay AI using both the official Python SDK and raw HTTP requests.\n",
        "- Receive and display responses from the chatbot.\n",
        "\n",
        "**Let's dive in and see Shivaay AI in action!**\n"
      ],
      "metadata": {
        "id": "AXR_zDOQ-dKD"
      }
    },
    {
      "cell_type": "markdown",
      "source": [
        "This cell installs the `requests` library, which is a popular Python package used for making HTTP requests. It allows us to send requests to web APIs and receive responses easily.  \n",
        "If you already have `requests` installed, this command will ensure you have the latest version.\n"
      ],
      "metadata": {
        "id": "8HkywacL_Zi2"
      }
    },
    {
      "cell_type": "code",
      "execution_count": null,
      "metadata": {
        "colab": {
          "base_uri": "https://localhost:8080/"
        },
        "collapsed": true,
        "id": "8wA2gjqbAPsT",
        "outputId": "eb689341-ded7-4583-f294-0210656a0abb"
      },
      "outputs": [
        {
          "output_type": "stream",
          "name": "stdout",
          "text": [
            "Requirement already satisfied: requests in /usr/local/lib/python3.11/dist-packages (2.32.3)\n",
            "Requirement already satisfied: charset-normalizer<4,>=2 in /usr/local/lib/python3.11/dist-packages (from requests) (3.4.2)\n",
            "Requirement already satisfied: idna<4,>=2.5 in /usr/local/lib/python3.11/dist-packages (from requests) (3.10)\n",
            "Requirement already satisfied: urllib3<3,>=1.21.1 in /usr/local/lib/python3.11/dist-packages (from requests) (2.4.0)\n",
            "Requirement already satisfied: certifi>=2017.4.17 in /usr/local/lib/python3.11/dist-packages (from requests) (2025.4.26)\n"
          ]
        }
      ],
      "source": [
        "pip install requests"
      ]
    },
    {
      "cell_type": "markdown",
      "source": [
        "**In this cell, we set up two important variables:**\n",
        "\n",
        "- `API_KEY`: This is your unique authentication token that grants access to the Shivaay AI API.  \n",
        "- `API_URL`: This is the endpoint URL where we will send our API requests to interact with the Shivaay chatbot.\n",
        "\n",
        "Make sure to replace the `API_KEY` with your own key to successfully authenticate your requests.\n"
      ],
      "metadata": {
        "id": "WrhVsGDg_i5a"
      }
    },
    {
      "cell_type": "code",
      "source": [
        "API_KEY = \"YOUR-API-KEY\"\n",
        "API_URL = \"https://api.futurixai.com/api/shivaay/v1\"  # Base URL for Shivaay AI API (compatible with OpenAI library)"
      ],
      "metadata": {
        "id": "Jys2on0R7GPF"
      },
      "execution_count": null,
      "outputs": []
    },
    {
      "cell_type": "markdown",
      "source": [
        "**This cell demonstrates how to interact with the Shivaay AI API using the OpenAI-compatible Python SDK.**\n",
        "\n",
        "- We initialize the `OpenAI` client with the API key and base URL.  \n",
        "- Then, we send a chat completion request with a system message (setting assistant behavior) and a user message (our query).  \n",
        "- The response contains the chatbot's reply, which we print out.\n",
        "\n",
        "This approach abstracts away raw HTTP requests, making it easier to work with the API.\n"
      ],
      "metadata": {
        "id": "9KbewJPt_oGJ"
      }
    },
    {
      "cell_type": "code",
      "source": [
        "from openai import OpenAI\n",
        "\n",
        "client = OpenAI(\n",
        "    api_key=API_KEY,\n",
        "    base_url=API_URL\n",
        ")\n",
        "response = client.chat.completions.create(\n",
        "    model=\"shivaay\",\n",
        "    messages=[\n",
        "        {\"role\": \"system\", \"content\": \"You are a helpful assistant.\"},\n",
        "        {\"role\": \"user\", \"content\": \"What is the capital of France?\"}\n",
        "    ],\n",
        "    temperature=0.7,\n",
        "    max_tokens=150\n",
        ")\n",
        "\n",
        "print(f\"Shivaay AI says : {response.choices[0].message.content}\")"
      ],
      "metadata": {
        "colab": {
          "base_uri": "https://localhost:8080/"
        },
        "id": "swDGKsSp7SHc",
        "outputId": "2d8b5fbe-5942-45a5-c116-51dd02487994"
      },
      "execution_count": null,
      "outputs": [
        {
          "output_type": "stream",
          "name": "stdout",
          "text": [
            "Shivaay AI says : The capital of France is Paris.\n"
          ]
        }
      ]
    },
    {
      "cell_type": "markdown",
      "source": [
        "**Here, we interact with the Shivaay AI API directly using Python's `requests` library:**\n",
        "\n",
        "- We create the request headers, including authorization.  \n",
        "- We define the payload according to the OpenAI chat API format, specifying the model, messages, and parameters like temperature and max tokens.  \n",
        "- We make a POST request to the API endpoint.  \n",
        "- Finally, we parse and print the chatbot's response.\n",
        "\n",
        "This method gives more control over the HTTP request but requires managing headers and JSON formatting manually.\n"
      ],
      "metadata": {
        "id": "nZ9XTUpm_yVJ"
      }
    },
    {
      "cell_type": "code",
      "source": [
        "API_KEY = \"YOUR-API-KEY\"\n",
        "API_URL = \"https://api.futurixai.com/api/shivaay/v1/chat/completions\"  # Endpoint URL for making chat completion requests using requests library"
      ],
      "metadata": {
        "id": "XEo4LkCwAQJ3"
      },
      "execution_count": null,
      "outputs": []
    },
    {
      "cell_type": "code",
      "source": [
        "import requests\n",
        "\n",
        "\n",
        "headers = {\n",
        "    \"Authorization\": f\"Bearer {API_KEY}\",\n",
        "    \"Content-Type\": \"application/json\"\n",
        "}\n",
        "\n",
        "payload = {\n",
        "    \"model\": \"shivaay\",\n",
        "    \"messages\": [\n",
        "        {\"role\": \"system\", \"content\": \"You are Shivaay, an AI assistant trained to help users.\"},\n",
        "        {\"role\": \"user\", \"content\": \"Tell me a fun fact about India.\"}\n",
        "    ],\n",
        "    \"temperature\": 0.7,\n",
        "    \"max_tokens\": 100\n",
        "}\n",
        "\n",
        "response = requests.post(API_URL, headers=headers, json=payload)\n",
        "\n",
        "if response.status_code == 200:\n",
        "    print(\"✅ Response from Shivaay AI:\")\n",
        "    print(response.json()[\"choices\"][0][\"message\"][\"content\"])\n",
        "else:\n",
        "    print(f\"❌ Error: {response.status_code}\")\n",
        "    print(response.text)\n"
      ],
      "metadata": {
        "colab": {
          "base_uri": "https://localhost:8080/"
        },
        "id": "h8gJH-5H79Ef",
        "outputId": "200d4cfe-462d-49b3-b7f2-29ba9754a8b3"
      },
      "execution_count": null,
      "outputs": [
        {
          "output_type": "stream",
          "name": "stdout",
          "text": [
            "✅ Response from Shivaay AI:\n",
            "India is home to the world's largest postal network, with over 155,000 post offices, making it larger than China's postal network. This extensive network serves not only urban areas but also reaches into remote villages across the country, facilitating communication and commerce even in the most rural parts of India.\n"
          ]
        }
      ]
    },
    {
      "cell_type": "code",
      "source": [],
      "metadata": {
        "id": "Od6ywqGL9jqU"
      },
      "execution_count": null,
      "outputs": []
    }
  ]
}