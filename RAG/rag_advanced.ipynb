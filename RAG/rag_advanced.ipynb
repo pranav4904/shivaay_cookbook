{
  "nbformat": 4,
  "nbformat_minor": 0,
  "metadata": {
    "colab": {
      "provenance": []
    },
    "kernelspec": {
      "name": "python3",
      "display_name": "Python 3"
    },
    "language_info": {
      "name": "python"
    }
  },
  "cells": [
    {
      "cell_type": "markdown",
      "source": [
        "#  PDF Question Answering using Shivaay API (RAG-like)\n",
        "\n",
        "This notebook lets you **ask questions from a PDF document** using a pipeline that:\n",
        "1. Extracts and chunks text from a PDF (local or URL).\n",
        "2. Filters chunks relevant to your query (via keyword overlap).\n",
        "3. Sends the query and context to the **Shivaay LLM API**.\n",
        "4. Returns a grounded, context-based answer.\n",
        "\n",
        " API used: `https://api.futurixai.com/api/shivaay/v1/chat/completions`  \n",
        " You can ask any question from the PDF (e.g., a report, textbook, whitepaper, etc.)  \n",
        " Make sure to install `PyPDF2` before running this notebook:  \n",
        "```bash\n",
        "pip install PyPDF2\n"
      ],
      "metadata": {
        "id": "5n2O3bc5nSr8"
      }
    },
    {
      "cell_type": "code",
      "source": [
        "pip install PyPDF2"
      ],
      "metadata": {
        "id": "wLXk0mkauBuv",
        "colab": {
          "base_uri": "https://localhost:8080/"
        },
        "outputId": "80f0a02f-c2ab-46c7-e91d-28a3dadde4e5"
      },
      "execution_count": 1,
      "outputs": [
        {
          "output_type": "stream",
          "name": "stdout",
          "text": [
            "Requirement already satisfied: PyPDF2 in /usr/local/lib/python3.11/dist-packages (3.0.1)\n"
          ]
        }
      ]
    },
    {
      "cell_type": "markdown",
      "source": [
        "###  Step 1: Imports and Config\n",
        "We import necessary libraries:\n",
        "- `requests`: to download files or call APIs.\n",
        "- `PyPDF2`: for extracting text from PDFs.\n",
        "- `io`, `re`: for handling file content and text cleaning.\n",
        "\n",
        "We also define our **API key** and the **Shivaay API endpoint**.\n"
      ],
      "metadata": {
        "id": "xloP1SLL-m7c"
      }
    },
    {
      "cell_type": "code",
      "source": [
        "import requests\n",
        "import PyPDF2\n",
        "import io\n",
        "import re\n",
        "\n",
        "API_KEY = #YOUR-API-KEY\n",
        "API_URL = \"https://api.futurixai.com/api/shivaay/v1/chat/completions\"\n"
      ],
      "metadata": {
        "id": "ue5F1HUBJI5h"
      },
      "execution_count": 2,
      "outputs": []
    },
    {
      "cell_type": "markdown",
      "source": [
        "###  Step 2: PDF Text Extraction (Generator)\n",
        "This function:\n",
        "- Accepts a **local PDF file** or a **URL**.\n",
        "- Uses PyPDF2 to extract text **page by page**.\n",
        "- Cleans whitespace using regex.\n",
        "- Yields the text **as a generator**, so memory isn't overloaded.\n"
      ],
      "metadata": {
        "id": "VlAVr9D3-rxP"
      }
    },
    {
      "cell_type": "code",
      "source": [
        "def extract_text_generator(pdf_path_or_url, is_url=False):\n",
        "\n",
        "    try:\n",
        "        if is_url:\n",
        "            response = requests.get(pdf_path_or_url)\n",
        "            file = io.BytesIO(response.content)\n",
        "        else:\n",
        "            file = open(pdf_path_or_url, 'rb')\n",
        "\n",
        "        reader = PyPDF2.PdfReader(file)\n",
        "\n",
        "        for page in reader.pages:\n",
        "            page_text = page.extract_text()\n",
        "            if page_text:\n",
        "                cleaned = re.sub(r'\\s+', ' ', page_text).strip()\n",
        "                yield cleaned\n",
        "\n",
        "    except Exception as e:\n",
        "        print(f\"❌ Error: {e}\")\n",
        "        return\n"
      ],
      "metadata": {
        "id": "9mSJNcpaJQQb"
      },
      "execution_count": 3,
      "outputs": []
    },
    {
      "cell_type": "markdown",
      "source": [
        "###  Step 3: Chunking the PDF text\n",
        "This function takes the page-wise generator and:\n",
        "- Combines text into chunks of `chunk_size` (default 1000 characters).\n",
        "- Uses **overlap** (default 200 chars) to preserve context across chunks.\n",
        "- Yields each chunk as a string.\n"
      ],
      "metadata": {
        "id": "_nW6IaYM-vG5"
      }
    },
    {
      "cell_type": "code",
      "source": [
        "def chunk_generator(text_gen, chunk_size=1000, overlap=200):\n",
        "\n",
        "    buffer = \"\"\n",
        "    for page_text in text_gen:\n",
        "        buffer += page_text + \" \"\n",
        "        while len(buffer) >= chunk_size:\n",
        "            yield buffer[:chunk_size]\n",
        "            buffer = buffer[chunk_size - overlap:]\n",
        "    if buffer:\n",
        "        yield buffer\n"
      ],
      "metadata": {
        "id": "rDJ0t6K2JTBD"
      },
      "execution_count": 4,
      "outputs": []
    },
    {
      "cell_type": "markdown",
      "source": [
        "###  Step 4: Shivaay API Call with Context\n",
        "This function sends a user query and the selected document chunks to the Shivaay API:\n",
        "- Prompts it to answer **only using the document context**.\n",
        "- Sets low temperature for factual answers.\n",
        "- Uses `max_tokens=300` (can be changed).\n"
      ],
      "metadata": {
        "id": "8dBOBSOE-z2_"
      }
    },
    {
      "cell_type": "code",
      "source": [
        "def query_shivaay_with_context(query, context, max_tokens=300):\n",
        "    headers = {\n",
        "        \"Content-Type\": \"application/json\",\n",
        "        \"Authorization\": f\"Bearer {API_KEY}\"\n",
        "    }\n",
        "\n",
        "    payload = {\n",
        "        \"model\": \"shivaay\",\n",
        "        \"messages\": [\n",
        "            {\n",
        "                \"role\": \"system\",\n",
        "                \"content\": f\"\"\"Answer questions using ONLY this PDF content:\n",
        "                {context}\n",
        "\n",
        "                Respond \"Not mentioned in document\" for unrelated questions.\"\"\"\n",
        "            },\n",
        "            {\n",
        "                \"role\": \"user\",\n",
        "                \"content\": query\n",
        "            }\n",
        "        ],\n",
        "        \"temperature\": 0.2,\n",
        "        \"max_tokens\": max_tokens\n",
        "    }\n",
        "\n",
        "    try:\n",
        "        response = requests.post(API_URL, headers=headers, json=payload, timeout=15)\n",
        "        response.raise_for_status()\n",
        "        return response.json()['choices'][0]['message']['content']\n",
        "    except requests.exceptions.RequestException as e:\n",
        "        return f\"❌ API Error: {str(e)}\"\n"
      ],
      "metadata": {
        "id": "i4UwEhidJV7i"
      },
      "execution_count": 5,
      "outputs": []
    },
    {
      "cell_type": "markdown",
      "source": [
        "###  Step 5: Extract and Chunk the PDF\n",
        "We:\n",
        "- Set the PDF path (either a local file or URL).\n",
        "- Use our extract function to stream the PDF text.\n",
        "- Chunk the text using the function above.\n",
        "- Print how many chunks were created.\n"
      ],
      "metadata": {
        "id": "55Bcm_cb-3cs"
      }
    },
    {
      "cell_type": "code",
      "source": [
        "pdf_source = \"/content/indian army.pdf\" #Add path to your pdf file\n",
        "is_url = pdf_source.startswith(('http://', 'https://'))\n",
        "\n",
        "print(\"🔃 Extracting as stream...\")\n",
        "text_gen = extract_text_generator(pdf_source, is_url)\n",
        "\n",
        "print(\"🔄 Creating chunks...\")\n",
        "chunks = list(chunk_generator(text_gen))\n",
        "print(f\"✅ Created {len(chunks)} chunks.\")\n"
      ],
      "metadata": {
        "id": "dg0oMW-8JYLn",
        "colab": {
          "base_uri": "https://localhost:8080/"
        },
        "outputId": "934532f2-a2dc-4da7-8664-883940418c95"
      },
      "execution_count": 6,
      "outputs": [
        {
          "output_type": "stream",
          "name": "stdout",
          "text": [
            "🔃 Extracting as stream...\n",
            "🔄 Creating chunks...\n",
            "✅ Created 23 chunks.\n"
          ]
        }
      ]
    },
    {
      "cell_type": "markdown",
      "source": [
        "###  Step 6: Relevance Filtering\n",
        "This helper function scores chunks based on keyword overlap with the query.\n",
        "Returns the top-k most relevant chunks.\n"
      ],
      "metadata": {
        "id": "R35TT_mdJRYY"
      }
    },
    {
      "cell_type": "code",
      "source": [
        "def find_relevant_chunks(query, chunks, top_k=3):\n",
        "    query_words = set(re.findall(r'\\w+', query.lower()))\n",
        "    scored = []\n",
        "    for chunk in chunks:\n",
        "        chunk_words = set(re.findall(r'\\w+', chunk.lower()))\n",
        "        common = query_words.intersection(chunk_words)\n",
        "        score = len(common)\n",
        "        scored.append((score, chunk))\n",
        "    scored.sort(reverse=True)\n",
        "    return [chunk for score, chunk in scored[:top_k] if score > 0]\n"
      ],
      "metadata": {
        "id": "4HYtQiM0JMLV"
      },
      "execution_count": 7,
      "outputs": []
    },
    {
      "cell_type": "markdown",
      "source": [
        "###  Step 7: User Question and Context Filtering\n",
        "We:\n",
        "- Take a user question as input.\n",
        "- Use a helper (defined below) to find most **relevant chunks**.\n",
        "- Combine the chunks as context for the API.\n"
      ],
      "metadata": {
        "id": "k1Mdq1vwJV8Y"
      }
    },
    {
      "cell_type": "code",
      "source": [
        "user_question = input(\"💬 Your question about the document: \")\n",
        "relevant_chunks = find_relevant_chunks(user_question, chunks)\n",
        "context = \"\\n\\n\".join(relevant_chunks)\n"
      ],
      "metadata": {
        "id": "Rdvjd_OjJa6u",
        "colab": {
          "base_uri": "https://localhost:8080/"
        },
        "outputId": "e25707b1-bdf6-4b4d-e1cd-23055482b68c"
      },
      "execution_count": 8,
      "outputs": [
        {
          "name": "stdout",
          "output_type": "stream",
          "text": [
            "💬 Your question about the document: Explain the rank system in Indian Army\n"
          ]
        }
      ]
    },
    {
      "cell_type": "markdown",
      "source": [
        "###  Step 8: Generate Answer from Shivaay\n",
        "- Sends the user question and context to the API.\n",
        "- Prints the final answer.\n",
        "- Optionally shows part of the context that was sent.\n"
      ],
      "metadata": {
        "id": "WienPHy9--sX"
      }
    },
    {
      "cell_type": "code",
      "source": [
        "print(\"🤖 Consulting Shivaay...\")\n",
        "answer = query_shivaay_with_context(user_question, context)\n",
        "\n",
        "print(\"\\n📝 Answer:\")\n",
        "print(answer)\n",
        "\n",
        "print(\"\\n🔗 Context Preview:\")\n",
        "print(context[:500] + \"...\")\n"
      ],
      "metadata": {
        "id": "LC3RbuPmJdkB",
        "colab": {
          "base_uri": "https://localhost:8080/"
        },
        "outputId": "a3267e33-913e-4137-ac2b-872f46b08137"
      },
      "execution_count": 9,
      "outputs": [
        {
          "output_type": "stream",
          "name": "stdout",
          "text": [
            "🤖 Consulting Shivaay...\n",
            "\n",
            "📝 Answer:\n",
            "The rank structure in the Indian Army is divided into two main categories: Commissioned Officers and Junior Commissioned Officers/Non-Commissioned Officers (JCOs/NCOs).\n",
            "\n",
            "For Commissioned Officers, the ranks from highest to lowest are:\n",
            "- Field Marshal\n",
            "- General\n",
            "- Lieutenant General\n",
            "- Major General\n",
            "- Brigadier\n",
            "- Colonel\n",
            "- Lieutenant Colonel\n",
            "- Major\n",
            "- Captain\n",
            "- Lieutenant\n",
            "\n",
            "For Junior Commissioned Officers/Non-Commissioned Officers, the ranks from highest to lowest are:\n",
            "- Subedar Major\n",
            "- Subedar\n",
            "- Naib Subedar\n",
            "- Havildar Major\n",
            "- Havildar\n",
            "- Naik\n",
            "- Lance Naik\n",
            "- Jawan\n",
            "\n",
            "These ranks form the hierarchical structure that ensures command and control within the Indian Army.\n",
            "\n",
            "🔗 Context Preview:\n",
            "t, major changes made were with the introduction of helicopters, BOFORS Guns and track vehicles such as BMP and T72 tanks. The changes in the Armed Forces were to make it a modern war-fighting machine and to win the wars. Intext Questions 13.1 1. Where did Indians attend military course during British rule? 2. Name the different phases of restructuring of the armed forces. Activity 13.1 Collect pictures of the following and paste in your notebook: 1. Cheetah helicopter 2. Bofors Gun 3. T70 M1 Ta...\n"
          ]
        }
      ]
    },
    {
      "cell_type": "code",
      "source": [],
      "metadata": {
        "id": "975dXph0KKsO"
      },
      "execution_count": null,
      "outputs": []
    }
  ]
}